{
 "cells": [
  {
   "cell_type": "markdown",
   "id": "080da783",
   "metadata": {},
   "source": [
    "### Load the Oxford 102 Flowers Dataset"
   ]
  },
  {
   "cell_type": "code",
   "execution_count": 14,
   "id": "63638bc7",
   "metadata": {},
   "outputs": [],
   "source": [
    "import torchvision.transforms as transforms\n",
    "from torchvision.datasets import Flowers102\n",
    "from torch.utils.data import DataLoader, random_split, ConcatDataset\n",
    "import torch\n",
    "\n",
    "transform = transforms.Compose([\n",
    "    transforms.Resize((224, 224)),\n",
    "    transforms.ToTensor(),\n",
    "    transforms.Normalize(mean=[0.485, 0.456, 0.406],  # ImageNet mean\n",
    "                         std=[0.229, 0.224, 0.225])   # ImageNet std\n",
    "])\n",
    "\n",
    "# Download Oxford Flowers102 dataset\n",
    "# Load train, val, and test separately\n",
    "train_data = Flowers102(root='./data', split='train', download=True, transform=transform)\n",
    "val_data = Flowers102(root='./data', split='val', download=True, transform=transform)\n",
    "test_data = Flowers102(root='./data', split='test', download=True, transform=transform)\n",
    "\n",
    "# Combine into one full dataset (8189 images)\n",
    "full_dataset = ConcatDataset([train_data, val_data, test_data])\n",
    "\n",
    "# 70% train, 15% val, 15% test\n",
    "train_size = int(0.7 * len(full_dataset))       # ~5732\n",
    "val_size = int(0.15 * len(full_dataset))        # ~1228\n",
    "test_size = len(full_dataset) - train_size - val_size  # ~1229\n",
    "\n",
    "train_dataset, val_dataset, test_dataset = random_split(\n",
    "    full_dataset, [train_size, val_size, test_size],\n",
    "    generator=torch.Generator().manual_seed(42)  # reproducibility\n",
    ")\n",
    "\n",
    "# Split into train/val\n",
    "# train_size = int(0.8 * len(dataset))\n",
    "# val_size = len(dataset) - train_size\n",
    "# train_dataset, val_dataset = random_split(dataset, [train_size, val_size])"
   ]
  },
  {
   "cell_type": "code",
   "execution_count": 15,
   "id": "00bd2a36",
   "metadata": {},
   "outputs": [
    {
     "data": {
      "text/plain": [
       "(5732, 1228, 1229)"
      ]
     },
     "execution_count": 15,
     "metadata": {},
     "output_type": "execute_result"
    }
   ],
   "source": [
    "len(train_dataset), len(val_dataset), len(test_dataset)"
   ]
  },
  {
   "cell_type": "markdown",
   "id": "ea96d1ab",
   "metadata": {},
   "source": [
    "### Load Pre-trained ResNet18 and Modify the final layer"
   ]
  },
  {
   "cell_type": "code",
   "execution_count": 16,
   "id": "50515bc2",
   "metadata": {},
   "outputs": [],
   "source": [
    "import torch.nn as nn\n",
    "from torchvision import models\n",
    "\n",
    "device = torch.device(\"cuda\" if torch.cuda.is_available() else \"cpu\")\n",
    "\n",
    "model = models.resnet18(weights=models.ResNet18_Weights.IMAGENET1K_V1)\n",
    "\n",
    "# Freeze feature extractor layers\n",
    "for param in model.parameters():\n",
    "    param.requires_grad = False\n",
    "\n",
    "# Replace the final layer\n",
    "num_features = model.fc.in_features\n",
    "model.fc = nn.Linear(num_features, 102)  # 102 flower classes\n",
    "\n",
    "model = model.to(device)\n"
   ]
  },
  {
   "cell_type": "markdown",
   "id": "e7be4260",
   "metadata": {},
   "source": [
    "### Set Loss Function and Optimizer"
   ]
  },
  {
   "cell_type": "code",
   "execution_count": 17,
   "id": "4b6d2bab",
   "metadata": {},
   "outputs": [],
   "source": [
    "import torch.optim as optim\n",
    "\n",
    "criterion = nn.CrossEntropyLoss()\n",
    "optimizer = optim.Adam(model.fc.parameters(), lr=0.001)  # only train final layer\n"
   ]
  },
  {
   "cell_type": "markdown",
   "id": "4085c608",
   "metadata": {},
   "source": [
    "### Train the Model"
   ]
  },
  {
   "cell_type": "code",
   "execution_count": 19,
   "id": "7145aedd",
   "metadata": {},
   "outputs": [
    {
     "name": "stdout",
     "output_type": "stream",
     "text": [
      "Epoch 1, Loss: 21.4923, Validation Accuracy: 89.98%\n",
      "Epoch 2, Loss: 20.0313, Validation Accuracy: 90.55%\n",
      "Epoch 3, Loss: 18.0971, Validation Accuracy: 90.31%\n",
      "Epoch 4, Loss: 16.8713, Validation Accuracy: 90.39%\n",
      "Epoch 5, Loss: 15.9006, Validation Accuracy: 90.07%\n"
     ]
    }
   ],
   "source": [
    "from torch.utils.data import DataLoader\n",
    "\n",
    "train_loader = DataLoader(train_dataset, batch_size=32, shuffle=True)\n",
    "val_loader = DataLoader(val_dataset, batch_size=32)\n",
    "\n",
    "def train_model(model, train_loader, val_loader, criterion, optimizer, epochs=10):\n",
    "    for epoch in range(epochs):\n",
    "        model.train()\n",
    "        running_loss = 0.0\n",
    "        for imgs, labels in train_loader:\n",
    "            imgs, labels = imgs.to(device), labels.to(device)\n",
    "\n",
    "            optimizer.zero_grad()\n",
    "            outputs = model(imgs)\n",
    "            loss = criterion(outputs, labels)\n",
    "            loss.backward()\n",
    "            optimizer.step()\n",
    "            running_loss += loss.item()\n",
    "\n",
    "        model.eval()\n",
    "        correct, total = 0, 0\n",
    "        with torch.no_grad():\n",
    "            for imgs, labels in val_loader:\n",
    "                imgs, labels = imgs.to(device), labels.to(device)\n",
    "                outputs = model(imgs)\n",
    "                _, predicted = torch.max(outputs.data, 1)\n",
    "                total += labels.size(0)\n",
    "                correct += (predicted == labels).sum().item()\n",
    "\n",
    "        acc = 100 * correct / total\n",
    "        print(f\"Epoch {epoch+1}, Loss: {running_loss:.4f}, Validation Accuracy: {acc:.2f}%\")\n",
    "\n",
    "train_model(model, train_loader, val_loader, criterion, optimizer, epochs=5)\n"
   ]
  },
  {
   "cell_type": "markdown",
   "id": "7774e60a",
   "metadata": {},
   "source": [
    "### Evaluate on Test Set"
   ]
  },
  {
   "cell_type": "code",
   "execution_count": 20,
   "id": "7d209e79",
   "metadata": {},
   "outputs": [
    {
     "name": "stdout",
     "output_type": "stream",
     "text": [
      "Test Accuracy: 91.38%\n"
     ]
    }
   ],
   "source": [
    "test_loader = DataLoader(test_dataset, batch_size=32)\n",
    "model.eval()\n",
    "correct, total = 0, 0\n",
    "\n",
    "with torch.no_grad():\n",
    "    for imgs, labels in test_loader:\n",
    "        imgs, labels = imgs.to(device), labels.to(device)\n",
    "        outputs = model(imgs)\n",
    "        _, predicted = torch.max(outputs, 1)\n",
    "        total += labels.size(0)\n",
    "        correct += (predicted == labels).sum().item()\n",
    "\n",
    "print(f\"Test Accuracy: {100 * correct / total:.2f}%\")\n"
   ]
  },
  {
   "cell_type": "code",
   "execution_count": 21,
   "id": "2367392c",
   "metadata": {},
   "outputs": [],
   "source": [
    "torch.save(model.state_dict(), \"flower_classifier_resnet18.pth\")"
   ]
  }
 ],
 "metadata": {
  "kernelspec": {
   "display_name": "Python 3",
   "language": "python",
   "name": "python3"
  },
  "language_info": {
   "codemirror_mode": {
    "name": "ipython",
    "version": 3
   },
   "file_extension": ".py",
   "mimetype": "text/x-python",
   "name": "python",
   "nbconvert_exporter": "python",
   "pygments_lexer": "ipython3",
   "version": "3.10.11"
  }
 },
 "nbformat": 4,
 "nbformat_minor": 5
}
